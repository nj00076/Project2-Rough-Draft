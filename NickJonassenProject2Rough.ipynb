{
 "cells": [
  {
   "cell_type": "markdown",
   "id": "60c78f54-964b-414f-b4f5-bc8bbd7f7e58",
   "metadata": {},
   "source": [
    "# Problem statement. Describe the dataset, analyze the target variable, and state your prediction goal"
   ]
  },
  {
   "cell_type": "code",
   "execution_count": 2,
   "id": "480efb78-7935-46d6-a0f0-729374e3beb1",
   "metadata": {},
   "outputs": [],
   "source": [
    "#Description - \n",
    "#Name: Title of the video game\n",
    "#Platform: Gaming platform (e.g., PC, PS4, Xbox).\n",
    "#Year: Release year of the game\n",
    "#Genre: Genre of the game (e.g., Action, Adventure, Sports)\n",
    "#Publisher: The company that published the game\n",
    "#NA_Sales: Sales in North America (in millions)\n",
    "#EU_Sales: Sales in Europe (in millions)\n",
    "#JP_Sales: Sales in Japan (in millions)\n",
    "#Other_Sales: Sales in other regions (in millions)\n",
    "#Global_Sales: Total sales worldwide (in millions)\n",
    "\n",
    "#Target Variable - \n",
    "#Globale_Sales\n",
    "\n",
    "#Prediction Goal - \n",
    "#The goal is to predict Global_Sales of video games based on features such as \n",
    "#platform, genre, year of release, and publisher"
   ]
  },
  {
   "cell_type": "markdown",
   "id": "35540dde-6ab3-43fb-99e3-d165779f691b",
   "metadata": {},
   "source": [
    "# Setup"
   ]
  },
  {
   "cell_type": "code",
   "execution_count": 4,
   "id": "f9cf8e22-3aed-4970-8691-b084aba4a41b",
   "metadata": {},
   "outputs": [
    {
     "data": {
      "text/html": [
       "<div>\n",
       "<style scoped>\n",
       "    .dataframe tbody tr th:only-of-type {\n",
       "        vertical-align: middle;\n",
       "    }\n",
       "\n",
       "    .dataframe tbody tr th {\n",
       "        vertical-align: top;\n",
       "    }\n",
       "\n",
       "    .dataframe thead th {\n",
       "        text-align: right;\n",
       "    }\n",
       "</style>\n",
       "<table border=\"1\" class=\"dataframe\">\n",
       "  <thead>\n",
       "    <tr style=\"text-align: right;\">\n",
       "      <th></th>\n",
       "      <th>Rank</th>\n",
       "      <th>Name</th>\n",
       "      <th>Platform</th>\n",
       "      <th>Year</th>\n",
       "      <th>Genre</th>\n",
       "      <th>Publisher</th>\n",
       "      <th>NA_Sales</th>\n",
       "      <th>EU_Sales</th>\n",
       "      <th>JP_Sales</th>\n",
       "      <th>Other_Sales</th>\n",
       "      <th>Global_Sales</th>\n",
       "    </tr>\n",
       "  </thead>\n",
       "  <tbody>\n",
       "    <tr>\n",
       "      <th>0</th>\n",
       "      <td>1</td>\n",
       "      <td>Wii Sports</td>\n",
       "      <td>Wii</td>\n",
       "      <td>2006.0</td>\n",
       "      <td>Sports</td>\n",
       "      <td>Nintendo</td>\n",
       "      <td>41.49</td>\n",
       "      <td>29.02</td>\n",
       "      <td>3.77</td>\n",
       "      <td>8.46</td>\n",
       "      <td>82.74</td>\n",
       "    </tr>\n",
       "    <tr>\n",
       "      <th>1</th>\n",
       "      <td>2</td>\n",
       "      <td>Super Mario Bros.</td>\n",
       "      <td>NES</td>\n",
       "      <td>1985.0</td>\n",
       "      <td>Platform</td>\n",
       "      <td>Nintendo</td>\n",
       "      <td>29.08</td>\n",
       "      <td>3.58</td>\n",
       "      <td>6.81</td>\n",
       "      <td>0.77</td>\n",
       "      <td>40.24</td>\n",
       "    </tr>\n",
       "    <tr>\n",
       "      <th>2</th>\n",
       "      <td>3</td>\n",
       "      <td>Mario Kart Wii</td>\n",
       "      <td>Wii</td>\n",
       "      <td>2008.0</td>\n",
       "      <td>Racing</td>\n",
       "      <td>Nintendo</td>\n",
       "      <td>15.85</td>\n",
       "      <td>12.88</td>\n",
       "      <td>3.79</td>\n",
       "      <td>3.31</td>\n",
       "      <td>35.82</td>\n",
       "    </tr>\n",
       "    <tr>\n",
       "      <th>3</th>\n",
       "      <td>4</td>\n",
       "      <td>Wii Sports Resort</td>\n",
       "      <td>Wii</td>\n",
       "      <td>2009.0</td>\n",
       "      <td>Sports</td>\n",
       "      <td>Nintendo</td>\n",
       "      <td>15.75</td>\n",
       "      <td>11.01</td>\n",
       "      <td>3.28</td>\n",
       "      <td>2.96</td>\n",
       "      <td>33.00</td>\n",
       "    </tr>\n",
       "    <tr>\n",
       "      <th>4</th>\n",
       "      <td>5</td>\n",
       "      <td>Pokemon Red/Pokemon Blue</td>\n",
       "      <td>GB</td>\n",
       "      <td>1996.0</td>\n",
       "      <td>Role-Playing</td>\n",
       "      <td>Nintendo</td>\n",
       "      <td>11.27</td>\n",
       "      <td>8.89</td>\n",
       "      <td>10.22</td>\n",
       "      <td>1.00</td>\n",
       "      <td>31.37</td>\n",
       "    </tr>\n",
       "    <tr>\n",
       "      <th>5</th>\n",
       "      <td>6</td>\n",
       "      <td>Tetris</td>\n",
       "      <td>GB</td>\n",
       "      <td>1989.0</td>\n",
       "      <td>Puzzle</td>\n",
       "      <td>Nintendo</td>\n",
       "      <td>23.20</td>\n",
       "      <td>2.26</td>\n",
       "      <td>4.22</td>\n",
       "      <td>0.58</td>\n",
       "      <td>30.26</td>\n",
       "    </tr>\n",
       "    <tr>\n",
       "      <th>6</th>\n",
       "      <td>7</td>\n",
       "      <td>New Super Mario Bros.</td>\n",
       "      <td>DS</td>\n",
       "      <td>2006.0</td>\n",
       "      <td>Platform</td>\n",
       "      <td>Nintendo</td>\n",
       "      <td>11.38</td>\n",
       "      <td>9.23</td>\n",
       "      <td>6.50</td>\n",
       "      <td>2.90</td>\n",
       "      <td>30.01</td>\n",
       "    </tr>\n",
       "    <tr>\n",
       "      <th>7</th>\n",
       "      <td>8</td>\n",
       "      <td>Wii Play</td>\n",
       "      <td>Wii</td>\n",
       "      <td>2006.0</td>\n",
       "      <td>Misc</td>\n",
       "      <td>Nintendo</td>\n",
       "      <td>14.03</td>\n",
       "      <td>9.20</td>\n",
       "      <td>2.93</td>\n",
       "      <td>2.85</td>\n",
       "      <td>29.02</td>\n",
       "    </tr>\n",
       "    <tr>\n",
       "      <th>8</th>\n",
       "      <td>9</td>\n",
       "      <td>New Super Mario Bros. Wii</td>\n",
       "      <td>Wii</td>\n",
       "      <td>2009.0</td>\n",
       "      <td>Platform</td>\n",
       "      <td>Nintendo</td>\n",
       "      <td>14.59</td>\n",
       "      <td>7.06</td>\n",
       "      <td>4.70</td>\n",
       "      <td>2.26</td>\n",
       "      <td>28.62</td>\n",
       "    </tr>\n",
       "    <tr>\n",
       "      <th>9</th>\n",
       "      <td>10</td>\n",
       "      <td>Duck Hunt</td>\n",
       "      <td>NES</td>\n",
       "      <td>1984.0</td>\n",
       "      <td>Shooter</td>\n",
       "      <td>Nintendo</td>\n",
       "      <td>26.93</td>\n",
       "      <td>0.63</td>\n",
       "      <td>0.28</td>\n",
       "      <td>0.47</td>\n",
       "      <td>28.31</td>\n",
       "    </tr>\n",
       "    <tr>\n",
       "      <th>10</th>\n",
       "      <td>11</td>\n",
       "      <td>Nintendogs</td>\n",
       "      <td>DS</td>\n",
       "      <td>2005.0</td>\n",
       "      <td>Simulation</td>\n",
       "      <td>Nintendo</td>\n",
       "      <td>9.07</td>\n",
       "      <td>11.00</td>\n",
       "      <td>1.93</td>\n",
       "      <td>2.75</td>\n",
       "      <td>24.76</td>\n",
       "    </tr>\n",
       "    <tr>\n",
       "      <th>11</th>\n",
       "      <td>12</td>\n",
       "      <td>Mario Kart DS</td>\n",
       "      <td>DS</td>\n",
       "      <td>2005.0</td>\n",
       "      <td>Racing</td>\n",
       "      <td>Nintendo</td>\n",
       "      <td>9.81</td>\n",
       "      <td>7.57</td>\n",
       "      <td>4.13</td>\n",
       "      <td>1.92</td>\n",
       "      <td>23.42</td>\n",
       "    </tr>\n",
       "    <tr>\n",
       "      <th>12</th>\n",
       "      <td>13</td>\n",
       "      <td>Pokemon Gold/Pokemon Silver</td>\n",
       "      <td>GB</td>\n",
       "      <td>1999.0</td>\n",
       "      <td>Role-Playing</td>\n",
       "      <td>Nintendo</td>\n",
       "      <td>9.00</td>\n",
       "      <td>6.18</td>\n",
       "      <td>7.20</td>\n",
       "      <td>0.71</td>\n",
       "      <td>23.10</td>\n",
       "    </tr>\n",
       "    <tr>\n",
       "      <th>13</th>\n",
       "      <td>14</td>\n",
       "      <td>Wii Fit</td>\n",
       "      <td>Wii</td>\n",
       "      <td>2007.0</td>\n",
       "      <td>Sports</td>\n",
       "      <td>Nintendo</td>\n",
       "      <td>8.94</td>\n",
       "      <td>8.03</td>\n",
       "      <td>3.60</td>\n",
       "      <td>2.15</td>\n",
       "      <td>22.72</td>\n",
       "    </tr>\n",
       "    <tr>\n",
       "      <th>14</th>\n",
       "      <td>15</td>\n",
       "      <td>Wii Fit Plus</td>\n",
       "      <td>Wii</td>\n",
       "      <td>2009.0</td>\n",
       "      <td>Sports</td>\n",
       "      <td>Nintendo</td>\n",
       "      <td>9.09</td>\n",
       "      <td>8.59</td>\n",
       "      <td>2.53</td>\n",
       "      <td>1.79</td>\n",
       "      <td>22.00</td>\n",
       "    </tr>\n",
       "    <tr>\n",
       "      <th>15</th>\n",
       "      <td>16</td>\n",
       "      <td>Kinect Adventures!</td>\n",
       "      <td>X360</td>\n",
       "      <td>2010.0</td>\n",
       "      <td>Misc</td>\n",
       "      <td>Microsoft Game Studios</td>\n",
       "      <td>14.97</td>\n",
       "      <td>4.94</td>\n",
       "      <td>0.24</td>\n",
       "      <td>1.67</td>\n",
       "      <td>21.82</td>\n",
       "    </tr>\n",
       "    <tr>\n",
       "      <th>16</th>\n",
       "      <td>17</td>\n",
       "      <td>Grand Theft Auto V</td>\n",
       "      <td>PS3</td>\n",
       "      <td>2013.0</td>\n",
       "      <td>Action</td>\n",
       "      <td>Take-Two Interactive</td>\n",
       "      <td>7.01</td>\n",
       "      <td>9.27</td>\n",
       "      <td>0.97</td>\n",
       "      <td>4.14</td>\n",
       "      <td>21.40</td>\n",
       "    </tr>\n",
       "    <tr>\n",
       "      <th>17</th>\n",
       "      <td>18</td>\n",
       "      <td>Grand Theft Auto: San Andreas</td>\n",
       "      <td>PS2</td>\n",
       "      <td>2004.0</td>\n",
       "      <td>Action</td>\n",
       "      <td>Take-Two Interactive</td>\n",
       "      <td>9.43</td>\n",
       "      <td>0.40</td>\n",
       "      <td>0.41</td>\n",
       "      <td>10.57</td>\n",
       "      <td>20.81</td>\n",
       "    </tr>\n",
       "    <tr>\n",
       "      <th>18</th>\n",
       "      <td>19</td>\n",
       "      <td>Super Mario World</td>\n",
       "      <td>SNES</td>\n",
       "      <td>1990.0</td>\n",
       "      <td>Platform</td>\n",
       "      <td>Nintendo</td>\n",
       "      <td>12.78</td>\n",
       "      <td>3.75</td>\n",
       "      <td>3.54</td>\n",
       "      <td>0.55</td>\n",
       "      <td>20.61</td>\n",
       "    </tr>\n",
       "    <tr>\n",
       "      <th>19</th>\n",
       "      <td>20</td>\n",
       "      <td>Brain Age: Train Your Brain in Minutes a Day</td>\n",
       "      <td>DS</td>\n",
       "      <td>2005.0</td>\n",
       "      <td>Misc</td>\n",
       "      <td>Nintendo</td>\n",
       "      <td>4.75</td>\n",
       "      <td>9.26</td>\n",
       "      <td>4.16</td>\n",
       "      <td>2.05</td>\n",
       "      <td>20.22</td>\n",
       "    </tr>\n",
       "  </tbody>\n",
       "</table>\n",
       "</div>"
      ],
      "text/plain": [
       "    Rank                                          Name Platform    Year  \\\n",
       "0      1                                    Wii Sports      Wii  2006.0   \n",
       "1      2                             Super Mario Bros.      NES  1985.0   \n",
       "2      3                                Mario Kart Wii      Wii  2008.0   \n",
       "3      4                             Wii Sports Resort      Wii  2009.0   \n",
       "4      5                      Pokemon Red/Pokemon Blue       GB  1996.0   \n",
       "5      6                                        Tetris       GB  1989.0   \n",
       "6      7                         New Super Mario Bros.       DS  2006.0   \n",
       "7      8                                      Wii Play      Wii  2006.0   \n",
       "8      9                     New Super Mario Bros. Wii      Wii  2009.0   \n",
       "9     10                                     Duck Hunt      NES  1984.0   \n",
       "10    11                                    Nintendogs       DS  2005.0   \n",
       "11    12                                 Mario Kart DS       DS  2005.0   \n",
       "12    13                   Pokemon Gold/Pokemon Silver       GB  1999.0   \n",
       "13    14                                       Wii Fit      Wii  2007.0   \n",
       "14    15                                  Wii Fit Plus      Wii  2009.0   \n",
       "15    16                            Kinect Adventures!     X360  2010.0   \n",
       "16    17                            Grand Theft Auto V      PS3  2013.0   \n",
       "17    18                 Grand Theft Auto: San Andreas      PS2  2004.0   \n",
       "18    19                             Super Mario World     SNES  1990.0   \n",
       "19    20  Brain Age: Train Your Brain in Minutes a Day       DS  2005.0   \n",
       "\n",
       "           Genre               Publisher  NA_Sales  EU_Sales  JP_Sales  \\\n",
       "0         Sports                Nintendo     41.49     29.02      3.77   \n",
       "1       Platform                Nintendo     29.08      3.58      6.81   \n",
       "2         Racing                Nintendo     15.85     12.88      3.79   \n",
       "3         Sports                Nintendo     15.75     11.01      3.28   \n",
       "4   Role-Playing                Nintendo     11.27      8.89     10.22   \n",
       "5         Puzzle                Nintendo     23.20      2.26      4.22   \n",
       "6       Platform                Nintendo     11.38      9.23      6.50   \n",
       "7           Misc                Nintendo     14.03      9.20      2.93   \n",
       "8       Platform                Nintendo     14.59      7.06      4.70   \n",
       "9        Shooter                Nintendo     26.93      0.63      0.28   \n",
       "10    Simulation                Nintendo      9.07     11.00      1.93   \n",
       "11        Racing                Nintendo      9.81      7.57      4.13   \n",
       "12  Role-Playing                Nintendo      9.00      6.18      7.20   \n",
       "13        Sports                Nintendo      8.94      8.03      3.60   \n",
       "14        Sports                Nintendo      9.09      8.59      2.53   \n",
       "15          Misc  Microsoft Game Studios     14.97      4.94      0.24   \n",
       "16        Action    Take-Two Interactive      7.01      9.27      0.97   \n",
       "17        Action    Take-Two Interactive      9.43      0.40      0.41   \n",
       "18      Platform                Nintendo     12.78      3.75      3.54   \n",
       "19          Misc                Nintendo      4.75      9.26      4.16   \n",
       "\n",
       "    Other_Sales  Global_Sales  \n",
       "0          8.46         82.74  \n",
       "1          0.77         40.24  \n",
       "2          3.31         35.82  \n",
       "3          2.96         33.00  \n",
       "4          1.00         31.37  \n",
       "5          0.58         30.26  \n",
       "6          2.90         30.01  \n",
       "7          2.85         29.02  \n",
       "8          2.26         28.62  \n",
       "9          0.47         28.31  \n",
       "10         2.75         24.76  \n",
       "11         1.92         23.42  \n",
       "12         0.71         23.10  \n",
       "13         2.15         22.72  \n",
       "14         1.79         22.00  \n",
       "15         1.67         21.82  \n",
       "16         4.14         21.40  \n",
       "17        10.57         20.81  \n",
       "18         0.55         20.61  \n",
       "19         2.05         20.22  "
      ]
     },
     "execution_count": 4,
     "metadata": {},
     "output_type": "execute_result"
    }
   ],
   "source": [
    "import matplotlib.pyplot as plt\n",
    "import numpy as np\n",
    "import pandas as pd\n",
    "import seaborn as sns\n",
    "\n",
    "df = pd.read_csv('Downloads/vgsales.csv')\n",
    "df.head(20)"
   ]
  },
  {
   "cell_type": "markdown",
   "id": "17c59958-2709-488f-a9f8-accf105e86c2",
   "metadata": {},
   "source": [
    "# Basic data cleaning"
   ]
  },
  {
   "cell_type": "code",
   "execution_count": 6,
   "id": "0b297eb4-5b23-46ea-920f-8e7de12470b7",
   "metadata": {},
   "outputs": [
    {
     "name": "stdout",
     "output_type": "stream",
     "text": [
      "Rank              0\n",
      "Platform          0\n",
      "Year            271\n",
      "Genre             0\n",
      "NA_Sales          0\n",
      "EU_Sales          0\n",
      "JP_Sales          0\n",
      "Other_Sales       0\n",
      "Global_Sales      0\n",
      "dtype: int64\n"
     ]
    }
   ],
   "source": [
    "#Drop Unwanted Features\n",
    "dfcleaned = df.drop(columns=['Name', 'Publisher'])\n",
    "\n",
    "#Address Missing Values\n",
    "missing_values = dfcleaned.isnull().sum()\n",
    "print(missing_values)\n",
    "\n",
    "#Remvove Duplicates\n",
    "dfcleaned = dfcleaned.drop_duplicates()"
   ]
  },
  {
   "cell_type": "code",
   "execution_count": 7,
   "id": "db3d13a6-efd1-4afe-874a-0bb1b812e8a2",
   "metadata": {},
   "outputs": [
    {
     "name": "stdout",
     "output_type": "stream",
     "text": [
      "['Wii' 'NES' 'GB' 'DS' 'X360' 'PS3' 'PS2' 'SNES' 'GBA' '3DS' 'PS4' 'N64'\n",
      " 'PS' 'XB' 'PC' '2600' 'PSP' 'XOne' 'GC' 'WiiU' 'GEN' 'DC' 'PSV' 'SAT'\n",
      " 'SCD' 'WS' 'NG' 'TG16' '3DO' 'GG' 'PCFX']\n",
      "['Sports' 'Platform' 'Racing' 'Role-Playing' 'Puzzle' 'Misc' 'Shooter'\n",
      " 'Simulation' 'Action' 'Fighting' 'Adventure' 'Strategy']\n"
     ]
    }
   ],
   "source": [
    "#Check for Inconsistent Inputs in Categorical Variables\n",
    "print(dfcleaned['Platform'].unique())\n",
    "print(dfcleaned['Genre'].unique())\n",
    "\n",
    "#Transform Categorical Variables into Numeric\n",
    "dfcleaned = pd.get_dummies(dfcleaned, columns=['Platform', 'Genre'], drop_first=True)"
   ]
  },
  {
   "cell_type": "code",
   "execution_count": 8,
   "id": "53b7e7e2-34e8-4837-9ee4-9c0fc3010c89",
   "metadata": {},
   "outputs": [
    {
     "data": {
      "image/png": "[encoded data removed]",
      "text/plain": [
       "<Figure size 640x480 with 1 Axes>"
      ]
     },
     "metadata": {},
     "output_type": "display_data"
    }
   ],
   "source": [
    "#Identify Outliers with Boxplots or Histograms\n",
    "sns.boxplot(x=dfcleaned['Global_Sales'])\n",
    "plt.show()"
   ]
  },
  {
   "cell_type": "code",
   "execution_count": 9,
   "id": "94fac33f-ab07-456e-b4a6-f80ca5536712",
   "metadata": {},
   "outputs": [
    {
     "data": {
      "image/png": "[encoded data removed]",
      "text/plain": [
       "<Figure size 640x480 with 1 Axes>"
      ]
     },
     "metadata": {},
     "output_type": "display_data"
    }
   ],
   "source": [
    "Q1 = dfcleaned['Global_Sales'].quantile(0.25)\n",
    "Q3 = dfcleaned['Global_Sales'].quantile(0.75)\n",
    "IQR = Q3 - Q1\n",
    "\n",
    "#Removing outliers\n",
    "dfcleaned = dfcleaned[(dfcleaned['Global_Sales'] >= (Q1 - 1.5 * IQR)) & (dfcleaned['Global_Sales'] <= (Q3 + 1.5 * IQR))]\n",
    "sns.boxplot(x=dfcleaned['Global_Sales'])\n",
    "plt.show()"
   ]
  },
  {
   "cell_type": "code",
   "execution_count": 10,
   "id": "b2858fef-7529-44cc-a7de-f86131d822f6",
   "metadata": {},
   "outputs": [
    {
     "name": "stdout",
     "output_type": "stream",
     "text": [
      "Index(['Rank', 'Year', 'NA_Sales', 'EU_Sales', 'JP_Sales', 'Other_Sales',\n",
      "       'Global_Sales', 'Platform_3DO', 'Platform_3DS', 'Platform_DC',\n",
      "       'Platform_DS', 'Platform_GB', 'Platform_GBA', 'Platform_GC',\n",
      "       'Platform_GEN', 'Platform_GG', 'Platform_N64', 'Platform_NES',\n",
      "       'Platform_NG', 'Platform_PC', 'Platform_PCFX', 'Platform_PS',\n",
      "       'Platform_PS2', 'Platform_PS3', 'Platform_PS4', 'Platform_PSP',\n",
      "       'Platform_PSV', 'Platform_SAT', 'Platform_SCD', 'Platform_SNES',\n",
      "       'Platform_TG16', 'Platform_WS', 'Platform_Wii', 'Platform_WiiU',\n",
      "       'Platform_X360', 'Platform_XB', 'Platform_XOne', 'Genre_Adventure',\n",
      "       'Genre_Fighting', 'Genre_Misc', 'Genre_Platform', 'Genre_Puzzle',\n",
      "       'Genre_Racing', 'Genre_Role-Playing', 'Genre_Shooter',\n",
      "       'Genre_Simulation', 'Genre_Sports', 'Genre_Strategy'],\n",
      "      dtype='object')\n"
     ]
    }
   ],
   "source": [
    "#For Categorial Tests\n",
    "print(dfcleaned.columns)\n",
    "platformdummies = ['Platform_3DO', 'Platform_3DS', 'Platform_DC',\n",
    "       'Platform_DS', 'Platform_GB', 'Platform_GBA', 'Platform_GC',\n",
    "       'Platform_GEN', 'Platform_GG', 'Platform_N64', 'Platform_NES',\n",
    "       'Platform_NG', 'Platform_PC', 'Platform_PCFX', 'Platform_PS',\n",
    "       'Platform_PS2', 'Platform_PS3', 'Platform_PS4', 'Platform_PSP',\n",
    "       'Platform_PSV', 'Platform_SAT', 'Platform_SCD', 'Platform_SNES',\n",
    "       'Platform_TG16', 'Platform_WS', 'Platform_Wii', 'Platform_WiiU',\n",
    "       'Platform_X360', 'Platform_XB', 'Platform_XOne']\n",
    "genredummies = ['Genre_Adventure',\n",
    "       'Genre_Fighting', 'Genre_Misc', 'Genre_Platform', 'Genre_Puzzle',\n",
    "       'Genre_Racing', 'Genre_Role-Playing', 'Genre_Shooter',\n",
    "       'Genre_Simulation', 'Genre_Sports', 'Genre_Strategy']"
   ]
  },
  {
   "cell_type": "markdown",
   "id": "75012faa-8110-4cbc-b309-a18ecd2bf9fe",
   "metadata": {},
   "source": [
    "# Feature selection"
   ]
  },
  {
   "cell_type": "code",
   "execution_count": 12,
   "id": "1d63bf54-c1e2-4914-8ed8-1ee8f7855d8e",
   "metadata": {},
   "outputs": [
    {
     "data": {
      "image/png": "[encoded data removed]",
      "text/plain": [
       "<Figure size 640x480 with 2 Axes>"
      ]
     },
     "metadata": {},
     "output_type": "display_data"
    }
   ],
   "source": [
    "#Identify Irrelevant Features\n",
    "corr = dfcleaned.corr()\n",
    "sns.heatmap(corr, cmap='coolwarm')\n",
    "plt.show()"
   ]
  },
  {
   "cell_type": "code",
   "execution_count": 13,
   "id": "9db5ceeb-45fc-4fab-89e0-427f381ff101",
   "metadata": {},
   "outputs": [
    {
     "name": "stdout",
     "output_type": "stream",
     "text": [
      "F-value: 18.218183813632837 P-value: 1.0627988216038264e-36\n",
      "F-value: 18.218183813632837 P-value: 1.0627988216038264e-36\n"
     ]
    }
   ],
   "source": [
    "#ANOVA Test and Chi2 test are not needed because the only 2 categorial columns \n",
    "#were made into dummiew earlier how every this is how\n",
    "\n",
    "from scipy import stats\n",
    "\n",
    "f, p = stats.f_oneway(*(df[df['Genre'] == genre]['Global_Sales'] for genre in df['Genre'].unique()))\n",
    "print('F-value:', f, 'P-value:', p)\n",
    "\n",
    "f, p = stats.f_oneway(*(df[df['Genre'] == genre]['Global_Sales'] for genre in df['Genre'].unique()))\n",
    "print('F-value:', f, 'P-value:', p)"
   ]
  },
  {
   "cell_type": "code",
   "execution_count": 14,
   "id": "1d19b71a-2992-45bc-a4e0-afd7d55fcc37",
   "metadata": {},
   "outputs": [
    {
     "name": "stdout",
     "output_type": "stream",
     "text": [
      "['Platform_3DO', 'Platform_3DS', 'Platform_DC', 'Platform_DS', 'Platform_GB', 'Platform_GBA', 'Platform_GC', 'Platform_GEN', 'Platform_GG', 'Platform_N64', 'Platform_NES', 'Platform_NG', 'Platform_PC', 'Platform_PCFX', 'Platform_PS', 'Platform_PS2', 'Platform_PS3', 'Platform_PS4', 'Platform_PSP', 'Platform_PSV', 'Platform_SAT', 'Platform_SCD', 'Platform_SNES', 'Platform_TG16', 'Platform_WS', 'Platform_Wii', 'Platform_WiiU', 'Platform_X360', 'Platform_XB', 'Platform_XOne']\n",
      "Chi-squared Stat: [3.32095710e-02 3.30265650e+00 5.09213421e-01 1.80070746e+00\n",
      " 5.28147708e-01 2.23467575e+00 1.23253106e+00 1.77117712e-01\n",
      " 1.10698570e-02 1.63804715e-04 2.29138571e+01 1.32838284e-01\n",
      " 2.38452481e+00 1.10698570e-02 7.18580951e+00 2.72754908e-01\n",
      " 5.19883051e+00 1.47043295e+00 3.59132783e+00 4.49436194e+00\n",
      " 4.10843688e-01 5.53492849e-02 3.65247867e-01 2.21397140e-02\n",
      " 6.64191419e-02 1.98897503e+00 1.88369098e+00 1.14412417e+01\n",
      " 2.39708815e+00 4.10843688e-01] \n",
      " P-value: [8.55398359e-01 6.91679392e-02 4.75479558e-01 1.79626990e-01\n",
      " 4.67386644e-01 1.34944931e-01 2.66915371e-01 6.73862025e-01\n",
      " 9.16206488e-01 9.89788456e-01 1.69426040e-06 7.15507171e-01\n",
      " 1.22542150e-01 9.16206488e-01 7.34823923e-03 6.01489715e-01\n",
      " 2.26020899e-02 2.25277396e-01 5.80818170e-02 3.40068024e-02\n",
      " 5.21541593e-01 8.14003612e-01 5.45606052e-01 8.81716027e-01\n",
      " 7.96623693e-01 1.58448091e-01 1.69915236e-01 7.18317748e-04\n",
      " 1.21561333e-01 5.21541593e-01] \n",
      "\n",
      "['Genre_Adventure', 'Genre_Fighting', 'Genre_Misc', 'Genre_Platform', 'Genre_Puzzle', 'Genre_Racing', 'Genre_Role-Playing', 'Genre_Shooter', 'Genre_Simulation', 'Genre_Sports', 'Genre_Strategy']\n",
      "Chi-squared Stat: [ 6.91055181  5.91109552  4.02533456 11.1561837   1.36875273  4.24697889\n",
      "  5.97844662  0.42268672  0.23625767  0.48268002  5.32619045] \n",
      " P-value: [0.00856885 0.01504581 0.04482173 0.00083752 0.2420263  0.03932022\n",
      " 0.01448175 0.51559946 0.62692218 0.48721088 0.02100725]\n"
     ]
    }
   ],
   "source": [
    "from sklearn.feature_selection import chi2\n",
    "from sklearn.preprocessing import LabelEncoder\n",
    "\n",
    "bins = [0, 1, 10, 50, 100, float('inf')]\n",
    "labels = ['Low', 'Medium', 'High', 'Very High', 'Extremely High']\n",
    "dfassist = dfcleaned\n",
    "dfassist['Sales_Category'] = pd.cut(dfassist['Global_Sales'], bins=bins, labels=labels)\n",
    "y = dfassist['Global_Sales']\n",
    "X = dfassist[platformdummies]\n",
    "chi, p = chi2(X, dfassist['Sales_Category'])\n",
    "print(platformdummies)\n",
    "print('Chi-squared Stat:', chi, \"\\n\", 'P-value:', p, \"\\n\")\n",
    "\n",
    "X = dfassist[genredummies]\n",
    "chi, p = chi2(X, dfassist['Sales_Category'])\n",
    "print(genredummies)\n",
    "print('Chi-squared Stat:', chi, \"\\n\", 'P-value:', p)"
   ]
  },
  {
   "cell_type": "code",
   "execution_count": 15,
   "id": "3adb8db3-d59e-41f9-ba8e-fce1ee4ddacd",
   "metadata": {},
   "outputs": [
    {
     "name": "stdout",
     "output_type": "stream",
     "text": [
      "Index(['EU_Sales', 'Other_Sales', 'Platform_3DO', 'Platform_DC', 'Platform_GB',\n",
      "       'Platform_GEN', 'Platform_GG', 'Platform_NES', 'Platform_NG',\n",
      "       'Platform_PCFX', 'Platform_SCD', 'Platform_TG16', 'Platform_WS',\n",
      "       'Platform_WiiU'],\n",
      "      dtype='object')\n"
     ]
    }
   ],
   "source": [
    "#Zero to Little Varience\n",
    "dfcleaned = dfcleaned.drop(columns='Sales_Category')\n",
    "variance = dfcleaned.var()\n",
    "low_variance_features = variance[variance < 0.01]\n",
    "print(low_variance_features.index)"
   ]
  },
  {
   "cell_type": "code",
   "execution_count": 16,
   "id": "c764509a-6ad2-455b-b27d-1834e70b2f1b",
   "metadata": {},
   "outputs": [
    {
     "name": "stdout",
     "output_type": "stream",
     "text": [
      "NA_Sales      Global_Sales    0.804268\n",
      "Global_Sales  NA_Sales        0.804268\n",
      "dtype: float64\n"
     ]
    }
   ],
   "source": [
    "#High-Correlated Features\n",
    "corr_matrix = dfcleaned.corr()\n",
    "high_corr_features = corr_matrix.unstack().sort_values(ascending=False)\n",
    "high_corr_pairs = high_corr_features[(high_corr_features > 0.8) & (high_corr_features < 1)]\n",
    "print(high_corr_pairs)"
   ]
  },
  {
   "cell_type": "code",
   "execution_count": 17,
   "id": "c5f68dca-90ae-42ef-92b8-7f391d8bd29f",
   "metadata": {},
   "outputs": [],
   "source": [
    "#Any variables with zero to little variance? - \n",
    "    #'EU_Sales', 'Other_Sales', 'Platform_3DO', 'Platform_DC', 'Platform_GB',\n",
    "    #'Platform_GEN', 'Platform_GG', 'Platform_NES', 'Platform_NG',\n",
    "    #'Platform_PCFX', 'Platform_SCD', 'Platform_TG16', 'Platform_WS',\n",
    "    #'Platform_WiiU'\n",
    "\n",
    "#Any features Irrelevant to the target variable? - \n",
    "    #Platform_3DO (0.855), Platform_3DS (0.069), Platform_DC (0.475), etc.\n",
    "\n",
    "#Any high-correlated Features? - \n",
    "    #NA_Sales      Global_Sales    0.804268\n",
    "\n",
    "#Are there any categorical variables need to be changed to dummy variables?\n",
    "    #Yes, Genre and Platform were changed earlier"
   ]
  },
  {
   "cell_type": "code",
   "execution_count": 44,
   "id": "e918952b-c5ad-4282-a173-5ef20199f4d8",
   "metadata": {},
   "outputs": [
    {
     "data": {
      "text/plain": [
       "array([[-1.73187496, -0.65104897,  2.70979564, ..., -0.2373137 ,\n",
       "        -0.405215  , -0.21522391],\n",
       "       [-1.7316394 ,  0.24499577,  2.31737008, ..., -0.2373137 ,\n",
       "        -0.405215  , -0.21522391],\n",
       "       [-1.73140384, -0.83025792,  2.70979564, ..., -0.2373137 ,\n",
       "        -0.405215  , -0.21522391],\n",
       "       ...,\n",
       "       [ 1.73156251,  0.24499577, -0.75663009, ..., -0.2373137 ,\n",
       "        -0.405215  , -0.21522391],\n",
       "       [ 1.73179807,  0.60341366, -0.75663009, ..., -0.2373137 ,\n",
       "        -0.405215  , -0.21522391],\n",
       "       [ 1.73203363, -0.65104897, -0.69122584, ..., -0.2373137 ,\n",
       "        -0.405215  , -0.21522391]])"
      ]
     },
     "execution_count": 44,
     "metadata": {},
     "output_type": "execute_result"
    }
   ],
   "source": [
    "from sklearn.preprocessing import StandardScaler\n",
    "scaler = StandardScaler()\n",
    "dfscaled = scaler.fit_transform(dfcleaned)\n",
    "dfscaled"
   ]
  },
  {
   "cell_type": "markdown",
   "id": "2fd2dd86-5324-4dcf-98a8-60bfc3c92bf5",
   "metadata": {},
   "source": [
    "# Build the prediction model"
   ]
  },
  {
   "cell_type": "code",
   "execution_count": 20,
   "id": "f0bae379-cc3b-44fa-bb87-c844eee61b5c",
   "metadata": {},
   "outputs": [
    {
     "name": "stdout",
     "output_type": "stream",
     "text": [
      "Mean Squared Error: 4.5270656239376365e-07\n",
      "R-squared Score: 0.9999926198975572\n"
     ]
    }
   ],
   "source": [
    "from sklearn.model_selection import train_test_split\n",
    "from sklearn.ensemble import RandomForestRegressor\n",
    "from sklearn.metrics import mean_squared_error, r2_score\n",
    "\n",
    "X = dfcleaned.drop('Global_Sales', axis=1)\n",
    "y = dfcleaned['Global_Sales']\n",
    "Xtrain, Xtest, ytrain, ytest = train_test_split(X, y, test_size=0.2, random_state=42)\n",
    "model = RandomForestRegressor(random_state=42)\n",
    "model.fit(Xtrain, ytrain)\n",
    "pred = model.predict(Xtest)\n",
    "\n",
    "mse = mean_squared_error(ytest, pred)\n",
    "r2 = r2_score(ytest, pred)\n",
    "\n",
    "print('Mean Squared Error:', mse)\n",
    "print('R-squared Score:', r2)"
   ]
  },
  {
   "cell_type": "code",
   "execution_count": 21,
   "id": "f8b5a12e-1625-4cde-83ac-7b30b0dc1a06",
   "metadata": {},
   "outputs": [],
   "source": [
    "#Does this data need to be balanced?\n",
    "    #Balancing is not necessary since the target variable is continuous\n",
    "\n",
    "#Do you use train_test_split or cross validation to validate the result?\n",
    "    #Cross-validation \n",
    "\n",
    "#Which algorithm is appropriate for this problem?\n",
    "    #Simple linear regression model\n",
    "\n",
    "#Which metrics do you use to evaluate the prediction model?\n",
    "    #Mean Squared Error: 4.5270656239376365e-07\n",
    "    #R-squared Score: 0.9999926198975572\n"
   ]
  }
 ],
 "metadata": {
  "kernelspec": {
   "display_name": "Python 3 (ipykernel)",
   "language": "python",
   "name": "python3"
  },
  "language_info": {
   "codemirror_mode": {
    "name": "ipython",
    "version": 3
   },
   "file_extension": ".py",
   "mimetype": "text/x-python",
   "name": "python",
   "nbconvert_exporter": "python",
   "pygments_lexer": "ipython3",
   "version": "3.12.4"
  }
 },
 "nbformat": 4,
 "nbformat_minor": 5
}
